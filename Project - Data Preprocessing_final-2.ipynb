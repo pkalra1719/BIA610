{
 "cells": [
  {
   "cell_type": "code",
   "execution_count": 7,
   "metadata": {},
   "outputs": [],
   "source": [
    "import pandas as pd\n",
    "import numpy as np\n",
    "import os\n",
    "\n",
    "#os.chdir(\"/Users/Jaebin/Documents/Stevens Fall 2019/Applied Analytics/\") #set general working directory\n",
    "\n",
    "county = pd.read_csv(\"Complete county file.csv\") # specific directory for where the dataset is"
   ]
  },
  {
   "cell_type": "code",
   "execution_count": 8,
   "metadata": {},
   "outputs": [
    {
     "data": {
      "text/plain": [
       "Index(['fipstate', 'fipscty', 'naics', 'empflag', 'emp_nf', 'emp', 'qp1_nf',\n",
       "       'qp1', 'ap_nf', 'ap', 'est', 'n1_4', 'n5_9', 'n10_19', 'n20_49',\n",
       "       'n50_99', 'n100_249', 'n250_499', 'n500_999', 'n1000', 'n1000_1',\n",
       "       'n1000_2', 'n1000_3', 'n1000_4', 'censtate', 'cencty'],\n",
       "      dtype='object')"
      ]
     },
     "execution_count": 8,
     "metadata": {},
     "output_type": "execute_result"
    }
   ],
   "source": [
    "county.columns"
   ]
  },
  {
   "cell_type": "code",
   "execution_count": 10,
   "metadata": {},
   "outputs": [
    {
     "data": {
      "text/plain": [
       "(2124893, 26)"
      ]
     },
     "execution_count": 10,
     "metadata": {},
     "output_type": "execute_result"
    }
   ],
   "source": [
    "county.shape"
   ]
  },
  {
   "cell_type": "code",
   "execution_count": 12,
   "metadata": {},
   "outputs": [
    {
     "data": {
      "text/plain": [
       "48    20613\n",
       "13    13100\n",
       "51    12212\n",
       "37    11375\n",
       "39    11178\n",
       "17     9916\n",
       "18     9829\n",
       "42     9723\n",
       "29     9693\n",
       "26     9583\n",
       "36     9308\n",
       "6      9281\n",
       "12     9153\n",
       "21     8663\n",
       "27     8542\n",
       "55     8395\n",
       "47     8368\n",
       "19     7970\n",
       "20     6752\n",
       "1      6416\n",
       "40     6121\n",
       "28     6100\n",
       "22     5925\n",
       "5      5885\n",
       "8      5877\n",
       "45     5178\n",
       "53     5076\n",
       "31     4986\n",
       "41     4311\n",
       "34     4146\n",
       "54     4003\n",
       "46     3634\n",
       "24     3612\n",
       "16     3504\n",
       "30     3448\n",
       "38     2887\n",
       "49     2843\n",
       "35     2785\n",
       "25     2778\n",
       "23     2195\n",
       "56     2154\n",
       "4      2089\n",
       "2      1724\n",
       "50     1633\n",
       "9      1587\n",
       "33     1554\n",
       "32     1496\n",
       "44      878\n",
       "15      690\n",
       "10      646\n",
       "11      185\n",
       "Name: fipstate, dtype: int64"
      ]
     },
     "execution_count": 12,
     "metadata": {},
     "output_type": "execute_result"
    }
   ],
   "source": [
    "county['fipstate'].value_counts()"
   ]
  },
  {
   "cell_type": "code",
   "execution_count": null,
   "metadata": {},
   "outputs": [],
   "source": []
  },
  {
   "cell_type": "code",
   "execution_count": 11,
   "metadata": {},
   "outputs": [],
   "source": [
    "# randomly sample 20000 samples\n",
    "county = county.sample(300000).reset_index(drop = True)"
   ]
  },
  {
   "cell_type": "code",
   "execution_count": 13,
   "metadata": {},
   "outputs": [],
   "source": [
    "county = county[(county.fipstate == 48)]"
   ]
  },
  {
   "cell_type": "code",
   "execution_count": 14,
   "metadata": {},
   "outputs": [
    {
     "data": {
      "text/html": [
       "<div>\n",
       "<style scoped>\n",
       "    .dataframe tbody tr th:only-of-type {\n",
       "        vertical-align: middle;\n",
       "    }\n",
       "\n",
       "    .dataframe tbody tr th {\n",
       "        vertical-align: top;\n",
       "    }\n",
       "\n",
       "    .dataframe thead th {\n",
       "        text-align: right;\n",
       "    }\n",
       "</style>\n",
       "<table border=\"1\" class=\"dataframe\">\n",
       "  <thead>\n",
       "    <tr style=\"text-align: right;\">\n",
       "      <th></th>\n",
       "      <th>fipstate</th>\n",
       "      <th>fipscty</th>\n",
       "      <th>naics</th>\n",
       "      <th>empflag</th>\n",
       "      <th>emp_nf</th>\n",
       "      <th>emp</th>\n",
       "      <th>qp1_nf</th>\n",
       "      <th>qp1</th>\n",
       "      <th>ap_nf</th>\n",
       "      <th>ap</th>\n",
       "      <th>...</th>\n",
       "      <th>n100_249</th>\n",
       "      <th>n250_499</th>\n",
       "      <th>n500_999</th>\n",
       "      <th>n1000</th>\n",
       "      <th>n1000_1</th>\n",
       "      <th>n1000_2</th>\n",
       "      <th>n1000_3</th>\n",
       "      <th>n1000_4</th>\n",
       "      <th>censtate</th>\n",
       "      <th>cencty</th>\n",
       "    </tr>\n",
       "  </thead>\n",
       "  <tbody>\n",
       "    <tr>\n",
       "      <td>19</td>\n",
       "      <td>48</td>\n",
       "      <td>183</td>\n",
       "      <td>62421/</td>\n",
       "      <td>NaN</td>\n",
       "      <td>J</td>\n",
       "      <td>2</td>\n",
       "      <td>J</td>\n",
       "      <td>7</td>\n",
       "      <td>J</td>\n",
       "      <td>31</td>\n",
       "      <td>...</td>\n",
       "      <td>0</td>\n",
       "      <td>0</td>\n",
       "      <td>0</td>\n",
       "      <td>0</td>\n",
       "      <td>0</td>\n",
       "      <td>0</td>\n",
       "      <td>0</td>\n",
       "      <td>0</td>\n",
       "      <td>74</td>\n",
       "      <td>183</td>\n",
       "    </tr>\n",
       "    <tr>\n",
       "      <td>29</td>\n",
       "      <td>48</td>\n",
       "      <td>85</td>\n",
       "      <td>325411</td>\n",
       "      <td>B</td>\n",
       "      <td>D</td>\n",
       "      <td>0</td>\n",
       "      <td>D</td>\n",
       "      <td>0</td>\n",
       "      <td>D</td>\n",
       "      <td>0</td>\n",
       "      <td>...</td>\n",
       "      <td>0</td>\n",
       "      <td>0</td>\n",
       "      <td>0</td>\n",
       "      <td>0</td>\n",
       "      <td>0</td>\n",
       "      <td>0</td>\n",
       "      <td>0</td>\n",
       "      <td>0</td>\n",
       "      <td>74</td>\n",
       "      <td>85</td>\n",
       "    </tr>\n",
       "    <tr>\n",
       "      <td>92</td>\n",
       "      <td>48</td>\n",
       "      <td>225</td>\n",
       "      <td>48423/</td>\n",
       "      <td>A</td>\n",
       "      <td>D</td>\n",
       "      <td>0</td>\n",
       "      <td>D</td>\n",
       "      <td>0</td>\n",
       "      <td>D</td>\n",
       "      <td>0</td>\n",
       "      <td>...</td>\n",
       "      <td>0</td>\n",
       "      <td>0</td>\n",
       "      <td>0</td>\n",
       "      <td>0</td>\n",
       "      <td>0</td>\n",
       "      <td>0</td>\n",
       "      <td>0</td>\n",
       "      <td>0</td>\n",
       "      <td>74</td>\n",
       "      <td>225</td>\n",
       "    </tr>\n",
       "    <tr>\n",
       "      <td>101</td>\n",
       "      <td>48</td>\n",
       "      <td>155</td>\n",
       "      <td>62191/</td>\n",
       "      <td>A</td>\n",
       "      <td>D</td>\n",
       "      <td>0</td>\n",
       "      <td>D</td>\n",
       "      <td>0</td>\n",
       "      <td>D</td>\n",
       "      <td>0</td>\n",
       "      <td>...</td>\n",
       "      <td>0</td>\n",
       "      <td>0</td>\n",
       "      <td>0</td>\n",
       "      <td>0</td>\n",
       "      <td>0</td>\n",
       "      <td>0</td>\n",
       "      <td>0</td>\n",
       "      <td>0</td>\n",
       "      <td>74</td>\n",
       "      <td>155</td>\n",
       "    </tr>\n",
       "    <tr>\n",
       "      <td>114</td>\n",
       "      <td>48</td>\n",
       "      <td>121</td>\n",
       "      <td>32519/</td>\n",
       "      <td>B</td>\n",
       "      <td>D</td>\n",
       "      <td>0</td>\n",
       "      <td>D</td>\n",
       "      <td>0</td>\n",
       "      <td>D</td>\n",
       "      <td>0</td>\n",
       "      <td>...</td>\n",
       "      <td>0</td>\n",
       "      <td>0</td>\n",
       "      <td>0</td>\n",
       "      <td>0</td>\n",
       "      <td>0</td>\n",
       "      <td>0</td>\n",
       "      <td>0</td>\n",
       "      <td>0</td>\n",
       "      <td>74</td>\n",
       "      <td>121</td>\n",
       "    </tr>\n",
       "  </tbody>\n",
       "</table>\n",
       "<p>5 rows × 26 columns</p>\n",
       "</div>"
      ],
      "text/plain": [
       "     fipstate  fipscty   naics empflag emp_nf  emp qp1_nf  qp1 ap_nf  ap  ...  \\\n",
       "19         48      183  62421/     NaN      J    2      J    7     J  31  ...   \n",
       "29         48       85  325411       B      D    0      D    0     D   0  ...   \n",
       "92         48      225  48423/       A      D    0      D    0     D   0  ...   \n",
       "101        48      155  62191/       A      D    0      D    0     D   0  ...   \n",
       "114        48      121  32519/       B      D    0      D    0     D   0  ...   \n",
       "\n",
       "     n100_249  n250_499  n500_999  n1000  n1000_1  n1000_2  n1000_3  n1000_4  \\\n",
       "19          0         0         0      0        0        0        0        0   \n",
       "29          0         0         0      0        0        0        0        0   \n",
       "92          0         0         0      0        0        0        0        0   \n",
       "101         0         0         0      0        0        0        0        0   \n",
       "114         0         0         0      0        0        0        0        0   \n",
       "\n",
       "     censtate  cencty  \n",
       "19         74     183  \n",
       "29         74      85  \n",
       "92         74     225  \n",
       "101        74     155  \n",
       "114        74     121  \n",
       "\n",
       "[5 rows x 26 columns]"
      ]
     },
     "execution_count": 14,
     "metadata": {},
     "output_type": "execute_result"
    }
   ],
   "source": [
    "county.head()"
   ]
  },
  {
   "cell_type": "code",
   "execution_count": 15,
   "metadata": {},
   "outputs": [],
   "source": [
    "# combine small size companies into one category\n",
    "county[\"sz_small\"] = county[\"n1_4\"] + county[\"n5_9\"] + county[\"n10_19\"] + county[\"n20_49\"] + county[\"n50_99\"]\n",
    "\n",
    "# combine medium size companies into one category\n",
    "county[\"sz_med\"] = county[\"n100_249\"] + county[\"n250_499\"] + county[\"n500_999\"]\n",
    "\n",
    "# combine large size companies into one category\n",
    "county[\"sz_lrg\"] = county[\"n1000_1\"] + county[\"n1000_2\"] + county[\"n1000_3\"] + county[\"n1000_4\"]\n",
    "\n",
    "county = county.drop(columns = [\"empflag\", \"emp_nf\", \"qp1_nf\", \"ap_nf\", \"censtate\", \"cencty\",\n",
    "                               \"n1_4\", \"n5_9\", \"n10_19\", \"n20_49\", \"n50_99\", \"n100_249\", \"n250_499\",\n",
    "                               \"n500_999\", \"n1000\", \"n1000_1\", \"n1000_2\", \"n1000_3\", \"n1000_4\"])"
   ]
  },
  {
   "cell_type": "code",
   "execution_count": 16,
   "metadata": {},
   "outputs": [
    {
     "data": {
      "text/plain": [
       "fipstate     int64\n",
       "fipscty      int64\n",
       "naics       object\n",
       "emp          int64\n",
       "qp1          int64\n",
       "ap           int64\n",
       "est          int64\n",
       "sz_small     int64\n",
       "sz_med       int64\n",
       "sz_lrg       int64\n",
       "dtype: object"
      ]
     },
     "execution_count": 16,
     "metadata": {},
     "output_type": "execute_result"
    }
   ],
   "source": [
    "county.dtypes"
   ]
  },
  {
   "cell_type": "markdown",
   "metadata": {
    "collapsed": true
   },
   "source": [
    "# for NACIS, removing \"-\" and \"/\" and converting to integers\n",
    "# takes several minutes, you'll know when it's done from the icon on the window tab\n",
    "\n",
    "for i in range(0,len(county[\"naics\"])):\n",
    "    a = str(county[\"naics\"][i])\n",
    "    if county[\"naics\"][i] == \"------\":\n",
    "        county[\"naics\"][i] = 0\n",
    "    elif \"-\" in county[\"naics\"][i]:\n",
    "        county[\"naics\"][i] = int(a.replace(\"-\", \"\"))        \n",
    "    elif \"/\" in county[\"naics\"][i]:\n",
    "        county[\"naics\"][i] = int(a.replace(\"/\", \"\"))\n",
    "    else:\n",
    "        county[\"naics\"][i] = int(a)"
   ]
  },
  {
   "cell_type": "code",
   "execution_count": 17,
   "metadata": {},
   "outputs": [],
   "source": [
    "county.naics=county.naics.replace('-','',regex=True)\n",
    "county.naics=county.naics.replace('/','',regex=True)"
   ]
  },
  {
   "cell_type": "code",
   "execution_count": 18,
   "metadata": {},
   "outputs": [
    {
     "data": {
      "text/html": [
       "<div>\n",
       "<style scoped>\n",
       "    .dataframe tbody tr th:only-of-type {\n",
       "        vertical-align: middle;\n",
       "    }\n",
       "\n",
       "    .dataframe tbody tr th {\n",
       "        vertical-align: top;\n",
       "    }\n",
       "\n",
       "    .dataframe thead th {\n",
       "        text-align: right;\n",
       "    }\n",
       "</style>\n",
       "<table border=\"1\" class=\"dataframe\">\n",
       "  <thead>\n",
       "    <tr style=\"text-align: right;\">\n",
       "      <th></th>\n",
       "      <th>fipstate</th>\n",
       "      <th>fipscty</th>\n",
       "      <th>naics</th>\n",
       "      <th>emp</th>\n",
       "      <th>qp1</th>\n",
       "      <th>ap</th>\n",
       "      <th>est</th>\n",
       "      <th>sz_small</th>\n",
       "      <th>sz_med</th>\n",
       "      <th>sz_lrg</th>\n",
       "    </tr>\n",
       "  </thead>\n",
       "  <tbody>\n",
       "    <tr>\n",
       "      <td>19</td>\n",
       "      <td>48</td>\n",
       "      <td>183</td>\n",
       "      <td>62421</td>\n",
       "      <td>2</td>\n",
       "      <td>7</td>\n",
       "      <td>31</td>\n",
       "      <td>3</td>\n",
       "      <td>3</td>\n",
       "      <td>0</td>\n",
       "      <td>0</td>\n",
       "    </tr>\n",
       "    <tr>\n",
       "      <td>29</td>\n",
       "      <td>48</td>\n",
       "      <td>85</td>\n",
       "      <td>325411</td>\n",
       "      <td>0</td>\n",
       "      <td>0</td>\n",
       "      <td>0</td>\n",
       "      <td>1</td>\n",
       "      <td>1</td>\n",
       "      <td>0</td>\n",
       "      <td>0</td>\n",
       "    </tr>\n",
       "    <tr>\n",
       "      <td>92</td>\n",
       "      <td>48</td>\n",
       "      <td>225</td>\n",
       "      <td>48423</td>\n",
       "      <td>0</td>\n",
       "      <td>0</td>\n",
       "      <td>0</td>\n",
       "      <td>1</td>\n",
       "      <td>1</td>\n",
       "      <td>0</td>\n",
       "      <td>0</td>\n",
       "    </tr>\n",
       "    <tr>\n",
       "      <td>101</td>\n",
       "      <td>48</td>\n",
       "      <td>155</td>\n",
       "      <td>62191</td>\n",
       "      <td>0</td>\n",
       "      <td>0</td>\n",
       "      <td>0</td>\n",
       "      <td>1</td>\n",
       "      <td>1</td>\n",
       "      <td>0</td>\n",
       "      <td>0</td>\n",
       "    </tr>\n",
       "    <tr>\n",
       "      <td>114</td>\n",
       "      <td>48</td>\n",
       "      <td>121</td>\n",
       "      <td>32519</td>\n",
       "      <td>0</td>\n",
       "      <td>0</td>\n",
       "      <td>0</td>\n",
       "      <td>1</td>\n",
       "      <td>1</td>\n",
       "      <td>0</td>\n",
       "      <td>0</td>\n",
       "    </tr>\n",
       "  </tbody>\n",
       "</table>\n",
       "</div>"
      ],
      "text/plain": [
       "     fipstate  fipscty   naics  emp  qp1  ap  est  sz_small  sz_med  sz_lrg\n",
       "19         48      183   62421    2    7  31    3         3       0       0\n",
       "29         48       85  325411    0    0   0    1         1       0       0\n",
       "92         48      225   48423    0    0   0    1         1       0       0\n",
       "101        48      155   62191    0    0   0    1         1       0       0\n",
       "114        48      121   32519    0    0   0    1         1       0       0"
      ]
     },
     "execution_count": 18,
     "metadata": {},
     "output_type": "execute_result"
    }
   ],
   "source": [
    "county.head()"
   ]
  },
  {
   "cell_type": "code",
   "execution_count": 19,
   "metadata": {},
   "outputs": [],
   "source": [
    "county = county.add_prefix('COUNTY_')\n"
   ]
  },
  {
   "cell_type": "code",
   "execution_count": 20,
   "metadata": {},
   "outputs": [
    {
     "data": {
      "text/html": [
       "<div>\n",
       "<style scoped>\n",
       "    .dataframe tbody tr th:only-of-type {\n",
       "        vertical-align: middle;\n",
       "    }\n",
       "\n",
       "    .dataframe tbody tr th {\n",
       "        vertical-align: top;\n",
       "    }\n",
       "\n",
       "    .dataframe thead th {\n",
       "        text-align: right;\n",
       "    }\n",
       "</style>\n",
       "<table border=\"1\" class=\"dataframe\">\n",
       "  <thead>\n",
       "    <tr style=\"text-align: right;\">\n",
       "      <th></th>\n",
       "      <th>COUNTY_fipstate</th>\n",
       "      <th>COUNTY_fipscty</th>\n",
       "      <th>COUNTY_naics</th>\n",
       "      <th>COUNTY_emp</th>\n",
       "      <th>COUNTY_qp1</th>\n",
       "      <th>COUNTY_ap</th>\n",
       "      <th>COUNTY_est</th>\n",
       "      <th>COUNTY_sz_small</th>\n",
       "      <th>COUNTY_sz_med</th>\n",
       "      <th>COUNTY_sz_lrg</th>\n",
       "    </tr>\n",
       "  </thead>\n",
       "  <tbody>\n",
       "    <tr>\n",
       "      <td>19</td>\n",
       "      <td>48</td>\n",
       "      <td>183</td>\n",
       "      <td>62421</td>\n",
       "      <td>2</td>\n",
       "      <td>7</td>\n",
       "      <td>31</td>\n",
       "      <td>3</td>\n",
       "      <td>3</td>\n",
       "      <td>0</td>\n",
       "      <td>0</td>\n",
       "    </tr>\n",
       "    <tr>\n",
       "      <td>29</td>\n",
       "      <td>48</td>\n",
       "      <td>85</td>\n",
       "      <td>325411</td>\n",
       "      <td>0</td>\n",
       "      <td>0</td>\n",
       "      <td>0</td>\n",
       "      <td>1</td>\n",
       "      <td>1</td>\n",
       "      <td>0</td>\n",
       "      <td>0</td>\n",
       "    </tr>\n",
       "    <tr>\n",
       "      <td>92</td>\n",
       "      <td>48</td>\n",
       "      <td>225</td>\n",
       "      <td>48423</td>\n",
       "      <td>0</td>\n",
       "      <td>0</td>\n",
       "      <td>0</td>\n",
       "      <td>1</td>\n",
       "      <td>1</td>\n",
       "      <td>0</td>\n",
       "      <td>0</td>\n",
       "    </tr>\n",
       "    <tr>\n",
       "      <td>101</td>\n",
       "      <td>48</td>\n",
       "      <td>155</td>\n",
       "      <td>62191</td>\n",
       "      <td>0</td>\n",
       "      <td>0</td>\n",
       "      <td>0</td>\n",
       "      <td>1</td>\n",
       "      <td>1</td>\n",
       "      <td>0</td>\n",
       "      <td>0</td>\n",
       "    </tr>\n",
       "    <tr>\n",
       "      <td>114</td>\n",
       "      <td>48</td>\n",
       "      <td>121</td>\n",
       "      <td>32519</td>\n",
       "      <td>0</td>\n",
       "      <td>0</td>\n",
       "      <td>0</td>\n",
       "      <td>1</td>\n",
       "      <td>1</td>\n",
       "      <td>0</td>\n",
       "      <td>0</td>\n",
       "    </tr>\n",
       "  </tbody>\n",
       "</table>\n",
       "</div>"
      ],
      "text/plain": [
       "     COUNTY_fipstate  COUNTY_fipscty COUNTY_naics  COUNTY_emp  COUNTY_qp1  \\\n",
       "19                48             183        62421           2           7   \n",
       "29                48              85       325411           0           0   \n",
       "92                48             225        48423           0           0   \n",
       "101               48             155        62191           0           0   \n",
       "114               48             121        32519           0           0   \n",
       "\n",
       "     COUNTY_ap  COUNTY_est  COUNTY_sz_small  COUNTY_sz_med  COUNTY_sz_lrg  \n",
       "19          31           3                3              0              0  \n",
       "29           0           1                1              0              0  \n",
       "92           0           1                1              0              0  \n",
       "101          0           1                1              0              0  \n",
       "114          0           1                1              0              0  "
      ]
     },
     "execution_count": 20,
     "metadata": {},
     "output_type": "execute_result"
    }
   ],
   "source": [
    "county.head()"
   ]
  },
  {
   "cell_type": "code",
   "execution_count": 21,
   "metadata": {},
   "outputs": [],
   "source": [
    "county.columns = ['COUNTY_fipstate', 'COUNTY_fipscty', 'naics', 'COUNTY_emp',\n",
    "       'COUNTY_qp1', 'COUNTY_ap', 'COUNTY_est', 'COUNTY_sz_small',\n",
    "       'COUNTY_sz_med', 'COUNTY_sz_lrg']"
   ]
  },
  {
   "cell_type": "markdown",
   "metadata": {},
   "source": [
    "## Your tasks\n",
    "\n",
    "1. change the dataset your respective dataset\n",
    "2. identify the columns and make sure the names are the same\n",
    "3. if you have columns that aren't in the County data, use your judgement to drop or include it\n",
    "4. go over the project proposal and understand exactly what we're trying to do\n",
    "5. feel free to ask questions if you have. But if it's coding related, please try it on your own first\n",
    "   and ask me or Sandeep if you really can't figure it out."
   ]
  },
  {
   "cell_type": "code",
   "execution_count": 22,
   "metadata": {},
   "outputs": [],
   "source": [
    "US_file = pd.read_csv('complete US file.csv',header=0, encoding='UTF-8')\n",
    "US_file = US_file.drop(['uscode',  'empflag', 'emp_nf', 'qp1_nf',\n",
    "       'ap_nf', 'f1_4', 'e1_4nf', 'e1_4', 'q1_4nf', 'q1_4',\n",
    "       'a1_4nf', 'a1_4', 'f5_9', 'e5_9nf', 'e5_9', 'q5_9nf', 'q5_9',\n",
    "       'a5_9nf', 'a5_9', 'f10_19', 'e10_19nf', 'e10_19', 'q10_19nf',\n",
    "       'q10_19', 'a10_19nf', 'a10_19', 'f20_49', 'e20_49nf',\n",
    "       'e20_49', 'q20_49nf', 'q20_49', 'a20_49nf', 'a20_49',\n",
    "       'f50_99', 'e50_99nf', 'e50_99', 'q50_99nf', 'q50_99', 'a50_99nf',\n",
    "       'a50_99', 'f100_249', 'e100_249nf', 'e100_249', 'q100_249nf',\n",
    "       'q100_249', 'a100_249nf', 'a100_249', 'f250_499',\n",
    "       'e250_499nf', 'e250_499', 'q250_499nf', 'q250_499', 'a250_499nf',\n",
    "       'a250_499', 'f500_999', 'e500_999nf', 'e500_999',\n",
    "       'q500_999nf', 'q500_999', 'a500_999nf', 'a500_999', 'f1000',\n",
    "       'e1000nf', 'e1000', 'q1000nf', 'q1000', 'a1000nf', 'a1000'],axis=1)"
   ]
  },
  {
   "cell_type": "code",
   "execution_count": 23,
   "metadata": {},
   "outputs": [],
   "source": [
    "# combine small size companies into one category\n",
    "US_file[\"sz_small\"] = US_file[\"n1_4\"] + US_file[\"n5_9\"] + US_file[\"n10_19\"] + US_file[\"n20_49\"] + US_file[\"n50_99\"]\n",
    "\n",
    "# combine medium size companies into one category\n",
    "US_file[\"sz_med\"] = US_file[\"n100_249\"] + US_file[\"n250_499\"] + US_file[\"n500_999\"]\n",
    "\n",
    "# combine large size companies into one category\n",
    "US_file[\"sz_lrg\"] = US_file[\"n1000\"] \n",
    "\n",
    "US_file = US_file.drop(columns = [\n",
    "                               \"n1_4\", \"n5_9\", \"n10_19\", \"n20_49\", \"n50_99\", \"n100_249\", \"n250_499\",\n",
    "                               \"n500_999\", \"n1000\" ])"
   ]
  },
  {
   "cell_type": "code",
   "execution_count": 24,
   "metadata": {},
   "outputs": [],
   "source": [
    "US_file.naics=US_file.naics.replace('-','',regex=True)\n",
    "US_file.naics=US_file.naics.replace('/','',regex=True)\n",
    "#US_file.lfo=US_file.lfo.replace('-','',regex=True)"
   ]
  },
  {
   "cell_type": "code",
   "execution_count": 25,
   "metadata": {},
   "outputs": [
    {
     "data": {
      "text/html": [
       "<div>\n",
       "<style scoped>\n",
       "    .dataframe tbody tr th:only-of-type {\n",
       "        vertical-align: middle;\n",
       "    }\n",
       "\n",
       "    .dataframe tbody tr th {\n",
       "        vertical-align: top;\n",
       "    }\n",
       "\n",
       "    .dataframe thead th {\n",
       "        text-align: right;\n",
       "    }\n",
       "</style>\n",
       "<table border=\"1\" class=\"dataframe\">\n",
       "  <thead>\n",
       "    <tr style=\"text-align: right;\">\n",
       "      <th></th>\n",
       "      <th>naics</th>\n",
       "      <th>lfo</th>\n",
       "      <th>emp</th>\n",
       "      <th>qp1</th>\n",
       "      <th>ap</th>\n",
       "      <th>est</th>\n",
       "      <th>sz_small</th>\n",
       "      <th>sz_med</th>\n",
       "      <th>sz_lrg</th>\n",
       "    </tr>\n",
       "  </thead>\n",
       "  <tbody>\n",
       "    <tr>\n",
       "      <td>0</td>\n",
       "      <td></td>\n",
       "      <td>-</td>\n",
       "      <td>126752238</td>\n",
       "      <td>1604399617</td>\n",
       "      <td>6435142055</td>\n",
       "      <td>7757807</td>\n",
       "      <td>7568676</td>\n",
       "      <td>181471</td>\n",
       "      <td>7660</td>\n",
       "    </tr>\n",
       "    <tr>\n",
       "      <td>1</td>\n",
       "      <td></td>\n",
       "      <td>C</td>\n",
       "      <td>55545767</td>\n",
       "      <td>888858468</td>\n",
       "      <td>3363492811</td>\n",
       "      <td>2114076</td>\n",
       "      <td>2014258</td>\n",
       "      <td>95948</td>\n",
       "      <td>3870</td>\n",
       "    </tr>\n",
       "    <tr>\n",
       "      <td>2</td>\n",
       "      <td></td>\n",
       "      <td>Z</td>\n",
       "      <td>33631600</td>\n",
       "      <td>313406667</td>\n",
       "      <td>1405230530</td>\n",
       "      <td>3251536</td>\n",
       "      <td>3213293</td>\n",
       "      <td>37534</td>\n",
       "      <td>709</td>\n",
       "    </tr>\n",
       "    <tr>\n",
       "      <td>3</td>\n",
       "      <td></td>\n",
       "      <td>S</td>\n",
       "      <td>4749707</td>\n",
       "      <td>37112956</td>\n",
       "      <td>157784272</td>\n",
       "      <td>899679</td>\n",
       "      <td>895824</td>\n",
       "      <td>3715</td>\n",
       "      <td>140</td>\n",
       "    </tr>\n",
       "    <tr>\n",
       "      <td>4</td>\n",
       "      <td></td>\n",
       "      <td>P</td>\n",
       "      <td>14926406</td>\n",
       "      <td>167485849</td>\n",
       "      <td>682046178</td>\n",
       "      <td>883952</td>\n",
       "      <td>861739</td>\n",
       "      <td>21636</td>\n",
       "      <td>577</td>\n",
       "    </tr>\n",
       "  </tbody>\n",
       "</table>\n",
       "</div>"
      ],
      "text/plain": [
       "  naics lfo        emp         qp1          ap      est  sz_small  sz_med  \\\n",
       "0         -  126752238  1604399617  6435142055  7757807   7568676  181471   \n",
       "1         C   55545767   888858468  3363492811  2114076   2014258   95948   \n",
       "2         Z   33631600   313406667  1405230530  3251536   3213293   37534   \n",
       "3         S    4749707    37112956   157784272   899679    895824    3715   \n",
       "4         P   14926406   167485849   682046178   883952    861739   21636   \n",
       "\n",
       "   sz_lrg  \n",
       "0    7660  \n",
       "1    3870  \n",
       "2     709  \n",
       "3     140  \n",
       "4     577  "
      ]
     },
     "execution_count": 25,
     "metadata": {},
     "output_type": "execute_result"
    }
   ],
   "source": [
    "US_file.head()"
   ]
  },
  {
   "cell_type": "code",
   "execution_count": 26,
   "metadata": {},
   "outputs": [],
   "source": [
    "US_file = US_file.add_prefix('US_')\n",
    "\n"
   ]
  },
  {
   "cell_type": "code",
   "execution_count": 27,
   "metadata": {},
   "outputs": [
    {
     "data": {
      "text/plain": [
       "Index(['US_naics', 'US_lfo', 'US_emp', 'US_qp1', 'US_ap', 'US_est',\n",
       "       'US_sz_small', 'US_sz_med', 'US_sz_lrg'],\n",
       "      dtype='object')"
      ]
     },
     "execution_count": 27,
     "metadata": {},
     "output_type": "execute_result"
    }
   ],
   "source": [
    "US_file.columns"
   ]
  },
  {
   "cell_type": "code",
   "execution_count": 28,
   "metadata": {},
   "outputs": [],
   "source": [
    "US_file.columns = ['naics', 'US_lfo', 'US_emp', 'US_qp1', 'US_ap', 'US_est',\n",
    "       'US_sz_small', 'US_sz_med', 'US_sz_lrg']"
   ]
  },
  {
   "cell_type": "code",
   "execution_count": null,
   "metadata": {},
   "outputs": [],
   "source": []
  },
  {
   "cell_type": "code",
   "execution_count": null,
   "metadata": {},
   "outputs": [],
   "source": []
  },
  {
   "cell_type": "code",
   "execution_count": null,
   "metadata": {},
   "outputs": [],
   "source": []
  },
  {
   "cell_type": "code",
   "execution_count": 29,
   "metadata": {},
   "outputs": [],
   "source": [
    "state = pd.read_csv(\"complete state file.csv\") # specific directory for where the dataset is"
   ]
  },
  {
   "cell_type": "code",
   "execution_count": 30,
   "metadata": {},
   "outputs": [],
   "source": [
    "# combine small size companies into one category\n",
    "state[\"sz_small\"] = state[\"n1_4\"] + state[\"n5_9\"] + state[\"n10_19\"] + state[\"n20_49\"] + state[\"n50_99\"]\n",
    "\n",
    "# combine medium size companies into one category\n",
    "state[\"sz_med\"] = state[\"n100_249\"] + state[\"n250_499\"] + state[\"n500_999\"]\n",
    "\n",
    "# combine large size companies into one category\n",
    "state[\"sz_lrg\"] = state[\"n1000\"] \n",
    "state = state.drop(columns = [\"f500_999\",\"f1_4\",\"e1_4nf\",\"empflag\",\"q1_4nf\",\"a1_4nf\",\"e5_9nf\",\"q5_9nf\",\"a5_9nf\",\"f10_19\",\"e10_19nf\",\"q10_19nf\",\"a10_19nf\",\"f20_49\",\"e20_49nf\",\"q20_49nf\",\"emp_nf\", \"qp1_nf\", \"ap_nf\", \"censtate\",\"f1000\",\n",
    "                               \"n1_4\", \"n5_9\", \"n10_19\", \"n20_49\", \"n50_99\", \"n100_249\", \"n250_499\",\n",
    "                               \"n500_999\", \"n1000\",\"e50_99nf\",\"q50_99nf\",\"a50_99nf\",\"f100_249\",\"e100_249nf\",\"q100_249nf\",\"a100_249nf\",\"e250_499nf\",\"q250_499nf\",\"a250_499nf\",\"e500_999nf\",\"q500_999nf\",\"a500_999nf\",\"e1000nf\",\"q1000nf\",\"a1000nf\",\n",
    "                                    'e1_4', 'q1_4',\n",
    "                               'a1_4', 'f5_9', 'e5_9', 'q5_9', 'a5_9', 'e10_19', 'q10_19', 'a10_19',\n",
    "                               'e20_49', 'q20_49', 'a20_49nf', 'a20_49', 'f50_99', 'e50_99', 'q50_99',\n",
    "                               'a50_99', 'e100_249', 'q100_249', 'a100_249', 'f250_499', 'e250_499',\n",
    "                               'q250_499', 'a250_499', 'e500_999', 'q500_999', 'a500_999', 'e1000',\n",
    "                               'q1000', 'a1000', ])"
   ]
  },
  {
   "cell_type": "code",
   "execution_count": 31,
   "metadata": {},
   "outputs": [
    {
     "data": {
      "text/html": [
       "<div>\n",
       "<style scoped>\n",
       "    .dataframe tbody tr th:only-of-type {\n",
       "        vertical-align: middle;\n",
       "    }\n",
       "\n",
       "    .dataframe tbody tr th {\n",
       "        vertical-align: top;\n",
       "    }\n",
       "\n",
       "    .dataframe thead th {\n",
       "        text-align: right;\n",
       "    }\n",
       "</style>\n",
       "<table border=\"1\" class=\"dataframe\">\n",
       "  <thead>\n",
       "    <tr style=\"text-align: right;\">\n",
       "      <th></th>\n",
       "      <th>fipstate</th>\n",
       "      <th>naics</th>\n",
       "      <th>lfo</th>\n",
       "      <th>emp</th>\n",
       "      <th>qp1</th>\n",
       "      <th>ap</th>\n",
       "      <th>est</th>\n",
       "      <th>sz_small</th>\n",
       "      <th>sz_med</th>\n",
       "      <th>sz_lrg</th>\n",
       "    </tr>\n",
       "  </thead>\n",
       "  <tbody>\n",
       "    <tr>\n",
       "      <td>0</td>\n",
       "      <td>1</td>\n",
       "      <td>------</td>\n",
       "      <td>-</td>\n",
       "      <td>1673249</td>\n",
       "      <td>16667378</td>\n",
       "      <td>68970623</td>\n",
       "      <td>99584</td>\n",
       "      <td>97088</td>\n",
       "      <td>2404</td>\n",
       "      <td>92</td>\n",
       "    </tr>\n",
       "    <tr>\n",
       "      <td>1</td>\n",
       "      <td>1</td>\n",
       "      <td>------</td>\n",
       "      <td>C</td>\n",
       "      <td>766685</td>\n",
       "      <td>8868459</td>\n",
       "      <td>35219759</td>\n",
       "      <td>28682</td>\n",
       "      <td>27284</td>\n",
       "      <td>1349</td>\n",
       "      <td>49</td>\n",
       "    </tr>\n",
       "    <tr>\n",
       "      <td>2</td>\n",
       "      <td>1</td>\n",
       "      <td>------</td>\n",
       "      <td>Z</td>\n",
       "      <td>473577</td>\n",
       "      <td>4150278</td>\n",
       "      <td>18378077</td>\n",
       "      <td>37856</td>\n",
       "      <td>37302</td>\n",
       "      <td>541</td>\n",
       "      <td>13</td>\n",
       "    </tr>\n",
       "    <tr>\n",
       "      <td>3</td>\n",
       "      <td>1</td>\n",
       "      <td>------</td>\n",
       "      <td>S</td>\n",
       "      <td>67223</td>\n",
       "      <td>490235</td>\n",
       "      <td>2119042</td>\n",
       "      <td>11465</td>\n",
       "      <td>11413</td>\n",
       "      <td>50</td>\n",
       "      <td>2</td>\n",
       "    </tr>\n",
       "    <tr>\n",
       "      <td>4</td>\n",
       "      <td>1</td>\n",
       "      <td>------</td>\n",
       "      <td>P</td>\n",
       "      <td>180868</td>\n",
       "      <td>1518668</td>\n",
       "      <td>6433918</td>\n",
       "      <td>11941</td>\n",
       "      <td>11691</td>\n",
       "      <td>243</td>\n",
       "      <td>7</td>\n",
       "    </tr>\n",
       "  </tbody>\n",
       "</table>\n",
       "</div>"
      ],
      "text/plain": [
       "   fipstate   naics lfo      emp       qp1        ap    est  sz_small  sz_med  \\\n",
       "0         1  ------   -  1673249  16667378  68970623  99584     97088    2404   \n",
       "1         1  ------   C   766685   8868459  35219759  28682     27284    1349   \n",
       "2         1  ------   Z   473577   4150278  18378077  37856     37302     541   \n",
       "3         1  ------   S    67223    490235   2119042  11465     11413      50   \n",
       "4         1  ------   P   180868   1518668   6433918  11941     11691     243   \n",
       "\n",
       "   sz_lrg  \n",
       "0      92  \n",
       "1      49  \n",
       "2      13  \n",
       "3       2  \n",
       "4       7  "
      ]
     },
     "execution_count": 31,
     "metadata": {},
     "output_type": "execute_result"
    }
   ],
   "source": [
    "state.head()"
   ]
  },
  {
   "cell_type": "code",
   "execution_count": 32,
   "metadata": {},
   "outputs": [],
   "source": [
    "state.naics=state.naics.replace('-','',regex=True)"
   ]
  },
  {
   "cell_type": "code",
   "execution_count": 33,
   "metadata": {},
   "outputs": [],
   "source": [
    "state.naics=state.naics.replace('/','',regex=True)"
   ]
  },
  {
   "cell_type": "code",
   "execution_count": 34,
   "metadata": {},
   "outputs": [
    {
     "data": {
      "text/plain": [
       "fipstate    0\n",
       "naics       0\n",
       "lfo         0\n",
       "emp         0\n",
       "qp1         0\n",
       "ap          0\n",
       "est         0\n",
       "sz_small    0\n",
       "sz_med      0\n",
       "sz_lrg      0\n",
       "dtype: int64"
      ]
     },
     "execution_count": 34,
     "metadata": {},
     "output_type": "execute_result"
    }
   ],
   "source": [
    "state.isnull().sum()"
   ]
  },
  {
   "cell_type": "code",
   "execution_count": 35,
   "metadata": {},
   "outputs": [
    {
     "data": {
      "text/plain": [
       "(448310, 10)"
      ]
     },
     "execution_count": 35,
     "metadata": {},
     "output_type": "execute_result"
    }
   ],
   "source": [
    "state.shape"
   ]
  },
  {
   "cell_type": "code",
   "execution_count": 61,
   "metadata": {},
   "outputs": [],
   "source": [
    "#state['fipstate'].value_counts()\n"
   ]
  },
  {
   "cell_type": "code",
   "execution_count": 37,
   "metadata": {},
   "outputs": [],
   "source": [
    "state = state.add_prefix('state_')\n",
    "\n"
   ]
  },
  {
   "cell_type": "code",
   "execution_count": 38,
   "metadata": {},
   "outputs": [
    {
     "data": {
      "text/plain": [
       "Index(['state_fipstate', 'state_naics', 'state_lfo', 'state_emp', 'state_qp1',\n",
       "       'state_ap', 'state_est', 'state_sz_small', 'state_sz_med',\n",
       "       'state_sz_lrg'],\n",
       "      dtype='object')"
      ]
     },
     "execution_count": 38,
     "metadata": {},
     "output_type": "execute_result"
    }
   ],
   "source": [
    "state.columns"
   ]
  },
  {
   "cell_type": "code",
   "execution_count": null,
   "metadata": {},
   "outputs": [],
   "source": []
  },
  {
   "cell_type": "code",
   "execution_count": 39,
   "metadata": {},
   "outputs": [],
   "source": [
    "state.columns = ['state_fipstate', 'naics', 'state_lfo', 'state_emp', 'state_qp1',\n",
    "       'state_ap', 'state_est', 'state_sz_small', 'state_sz_med',\n",
    "       'state_sz_lrg']"
   ]
  },
  {
   "cell_type": "code",
   "execution_count": null,
   "metadata": {},
   "outputs": [],
   "source": []
  },
  {
   "cell_type": "code",
   "execution_count": 40,
   "metadata": {},
   "outputs": [],
   "source": [
    "metro = pd.read_csv(\"complete metropolitan area file.csv\") # specific directory for where the dataset is"
   ]
  },
  {
   "cell_type": "code",
   "execution_count": 41,
   "metadata": {},
   "outputs": [],
   "source": [
    "# combine small size companies into one category\n",
    "metro[\"sz_small\"] = metro[\"n1_4\"] + metro[\"n5_9\"] + metro[\"n10_19\"] + metro[\"n20_49\"] + metro[\"n50_99\"]\n",
    "\n",
    "# combine medium size companies into one category\n",
    "metro[\"sz_med\"] = metro[\"n100_249\"] + metro[\"n250_499\"] + metro[\"n500_999\"]\n",
    "\n",
    "# combine large size companies into one category\n",
    "metro[\"sz_lrg\"] = metro[\"n1000_1\"] + metro[\"n1000_2\"] + metro[\"n1000_3\"] + metro[\"n1000_4\"]\n",
    "\n"
   ]
  },
  {
   "cell_type": "code",
   "execution_count": 42,
   "metadata": {},
   "outputs": [],
   "source": [
    "metro = metro.drop(columns = [\"empflag\", \"emp_nf\", \"qp1_nf\", \"ap_nf\",\n",
    "                               \"n1_4\", \"n5_9\", \"n10_19\", \"n20_49\", \"n50_99\", \"n100_249\", \"n250_499\",\n",
    "                               \"n500_999\", \"n1000\", \"n1000_1\", \"n1000_2\", \"n1000_3\", \"n1000_4\"])"
   ]
  },
  {
   "cell_type": "code",
   "execution_count": 43,
   "metadata": {},
   "outputs": [],
   "source": [
    "metro.naics=metro.naics.replace('-','',regex=True)\n",
    "metro.naics=metro.naics.replace('/','',regex=True)"
   ]
  },
  {
   "cell_type": "code",
   "execution_count": 44,
   "metadata": {},
   "outputs": [
    {
     "data": {
      "text/html": [
       "<div>\n",
       "<style scoped>\n",
       "    .dataframe tbody tr th:only-of-type {\n",
       "        vertical-align: middle;\n",
       "    }\n",
       "\n",
       "    .dataframe tbody tr th {\n",
       "        vertical-align: top;\n",
       "    }\n",
       "\n",
       "    .dataframe thead th {\n",
       "        text-align: right;\n",
       "    }\n",
       "</style>\n",
       "<table border=\"1\" class=\"dataframe\">\n",
       "  <thead>\n",
       "    <tr style=\"text-align: right;\">\n",
       "      <th></th>\n",
       "      <th>msa</th>\n",
       "      <th>naics</th>\n",
       "      <th>emp</th>\n",
       "      <th>qp1</th>\n",
       "      <th>ap</th>\n",
       "      <th>est</th>\n",
       "      <th>sz_small</th>\n",
       "      <th>sz_med</th>\n",
       "      <th>sz_lrg</th>\n",
       "    </tr>\n",
       "  </thead>\n",
       "  <tbody>\n",
       "    <tr>\n",
       "      <td>0</td>\n",
       "      <td>10100</td>\n",
       "      <td></td>\n",
       "      <td>19533</td>\n",
       "      <td>173691</td>\n",
       "      <td>746190</td>\n",
       "      <td>1418</td>\n",
       "      <td>1390</td>\n",
       "      <td>27</td>\n",
       "      <td>1</td>\n",
       "    </tr>\n",
       "    <tr>\n",
       "      <td>1</td>\n",
       "      <td>10100</td>\n",
       "      <td>11</td>\n",
       "      <td>20</td>\n",
       "      <td>188</td>\n",
       "      <td>1161</td>\n",
       "      <td>8</td>\n",
       "      <td>8</td>\n",
       "      <td>0</td>\n",
       "      <td>0</td>\n",
       "    </tr>\n",
       "    <tr>\n",
       "      <td>2</td>\n",
       "      <td>10100</td>\n",
       "      <td>115</td>\n",
       "      <td>20</td>\n",
       "      <td>188</td>\n",
       "      <td>1161</td>\n",
       "      <td>8</td>\n",
       "      <td>8</td>\n",
       "      <td>0</td>\n",
       "      <td>0</td>\n",
       "    </tr>\n",
       "    <tr>\n",
       "      <td>3</td>\n",
       "      <td>10100</td>\n",
       "      <td>1151</td>\n",
       "      <td>20</td>\n",
       "      <td>188</td>\n",
       "      <td>1159</td>\n",
       "      <td>7</td>\n",
       "      <td>7</td>\n",
       "      <td>0</td>\n",
       "      <td>0</td>\n",
       "    </tr>\n",
       "    <tr>\n",
       "      <td>4</td>\n",
       "      <td>10100</td>\n",
       "      <td>11511</td>\n",
       "      <td>20</td>\n",
       "      <td>188</td>\n",
       "      <td>1159</td>\n",
       "      <td>7</td>\n",
       "      <td>7</td>\n",
       "      <td>0</td>\n",
       "      <td>0</td>\n",
       "    </tr>\n",
       "  </tbody>\n",
       "</table>\n",
       "</div>"
      ],
      "text/plain": [
       "     msa  naics    emp     qp1      ap   est  sz_small  sz_med  sz_lrg\n",
       "0  10100         19533  173691  746190  1418      1390      27       1\n",
       "1  10100     11     20     188    1161     8         8       0       0\n",
       "2  10100    115     20     188    1161     8         8       0       0\n",
       "3  10100   1151     20     188    1159     7         7       0       0\n",
       "4  10100  11511     20     188    1159     7         7       0       0"
      ]
     },
     "execution_count": 44,
     "metadata": {},
     "output_type": "execute_result"
    }
   ],
   "source": [
    "metro.head()"
   ]
  },
  {
   "cell_type": "code",
   "execution_count": 45,
   "metadata": {},
   "outputs": [],
   "source": [
    "metro = metro.add_prefix('metro_')"
   ]
  },
  {
   "cell_type": "code",
   "execution_count": 46,
   "metadata": {},
   "outputs": [
    {
     "data": {
      "text/plain": [
       "Index(['metro_msa', 'metro_naics', 'metro_emp', 'metro_qp1', 'metro_ap',\n",
       "       'metro_est', 'metro_sz_small', 'metro_sz_med', 'metro_sz_lrg'],\n",
       "      dtype='object')"
      ]
     },
     "execution_count": 46,
     "metadata": {},
     "output_type": "execute_result"
    }
   ],
   "source": [
    "metro.columns"
   ]
  },
  {
   "cell_type": "code",
   "execution_count": 47,
   "metadata": {},
   "outputs": [],
   "source": [
    "metro.columns = ['metro_msa', 'naics', 'metro_emp', 'metro_qp1', 'metro_ap',\n",
    "       'metro_est', 'metro_sz_small', 'metro_sz_med', 'metro_sz_lrg']"
   ]
  },
  {
   "cell_type": "code",
   "execution_count": null,
   "metadata": {},
   "outputs": [],
   "source": []
  },
  {
   "cell_type": "code",
   "execution_count": null,
   "metadata": {},
   "outputs": [],
   "source": []
  },
  {
   "cell_type": "code",
   "execution_count": null,
   "metadata": {},
   "outputs": [],
   "source": []
  },
  {
   "cell_type": "code",
   "execution_count": 48,
   "metadata": {},
   "outputs": [],
   "source": [
    "cs = [county,state] #making a combined dataframe of train.csv and train_hospitalization"
   ]
  },
  {
   "cell_type": "code",
   "execution_count": 49,
   "metadata": {},
   "outputs": [],
   "source": [
    "from functools import reduce"
   ]
  },
  {
   "cell_type": "code",
   "execution_count": 50,
   "metadata": {},
   "outputs": [],
   "source": [
    "C_S = reduce(lambda left,right: pd.merge(left,right,on='naics'), cs) #reducting naics to 1 from 2"
   ]
  },
  {
   "cell_type": "code",
   "execution_count": 56,
   "metadata": {},
   "outputs": [
    {
     "data": {
      "text/html": [
       "<div>\n",
       "<style scoped>\n",
       "    .dataframe tbody tr th:only-of-type {\n",
       "        vertical-align: middle;\n",
       "    }\n",
       "\n",
       "    .dataframe tbody tr th {\n",
       "        vertical-align: top;\n",
       "    }\n",
       "\n",
       "    .dataframe thead th {\n",
       "        text-align: right;\n",
       "    }\n",
       "</style>\n",
       "<table border=\"1\" class=\"dataframe\">\n",
       "  <thead>\n",
       "    <tr style=\"text-align: right;\">\n",
       "      <th></th>\n",
       "      <th>COUNTY_fipstate</th>\n",
       "      <th>COUNTY_fipscty</th>\n",
       "      <th>naics</th>\n",
       "      <th>COUNTY_emp</th>\n",
       "      <th>COUNTY_qp1</th>\n",
       "      <th>COUNTY_ap</th>\n",
       "      <th>COUNTY_est</th>\n",
       "      <th>COUNTY_sz_small</th>\n",
       "      <th>COUNTY_sz_med</th>\n",
       "      <th>COUNTY_sz_lrg</th>\n",
       "      <th>state_fipstate</th>\n",
       "      <th>state_lfo</th>\n",
       "      <th>state_emp</th>\n",
       "      <th>state_qp1</th>\n",
       "      <th>state_ap</th>\n",
       "      <th>state_est</th>\n",
       "      <th>state_sz_small</th>\n",
       "      <th>state_sz_med</th>\n",
       "      <th>state_sz_lrg</th>\n",
       "    </tr>\n",
       "  </thead>\n",
       "  <tbody>\n",
       "    <tr>\n",
       "      <td>0</td>\n",
       "      <td>48</td>\n",
       "      <td>183</td>\n",
       "      <td>62421</td>\n",
       "      <td>2</td>\n",
       "      <td>7</td>\n",
       "      <td>31</td>\n",
       "      <td>3</td>\n",
       "      <td>3</td>\n",
       "      <td>0</td>\n",
       "      <td>0</td>\n",
       "      <td>1</td>\n",
       "      <td>-</td>\n",
       "      <td>285</td>\n",
       "      <td>1922</td>\n",
       "      <td>8083</td>\n",
       "      <td>39</td>\n",
       "      <td>39</td>\n",
       "      <td>0</td>\n",
       "      <td>0</td>\n",
       "    </tr>\n",
       "    <tr>\n",
       "      <td>1</td>\n",
       "      <td>48</td>\n",
       "      <td>183</td>\n",
       "      <td>62421</td>\n",
       "      <td>2</td>\n",
       "      <td>7</td>\n",
       "      <td>31</td>\n",
       "      <td>3</td>\n",
       "      <td>3</td>\n",
       "      <td>0</td>\n",
       "      <td>0</td>\n",
       "      <td>1</td>\n",
       "      <td>C</td>\n",
       "      <td>0</td>\n",
       "      <td>0</td>\n",
       "      <td>0</td>\n",
       "      <td>1</td>\n",
       "      <td>1</td>\n",
       "      <td>0</td>\n",
       "      <td>0</td>\n",
       "    </tr>\n",
       "    <tr>\n",
       "      <td>2</td>\n",
       "      <td>48</td>\n",
       "      <td>183</td>\n",
       "      <td>62421</td>\n",
       "      <td>2</td>\n",
       "      <td>7</td>\n",
       "      <td>31</td>\n",
       "      <td>3</td>\n",
       "      <td>3</td>\n",
       "      <td>0</td>\n",
       "      <td>0</td>\n",
       "      <td>1</td>\n",
       "      <td>N</td>\n",
       "      <td>284</td>\n",
       "      <td>1921</td>\n",
       "      <td>8079</td>\n",
       "      <td>38</td>\n",
       "      <td>38</td>\n",
       "      <td>0</td>\n",
       "      <td>0</td>\n",
       "    </tr>\n",
       "    <tr>\n",
       "      <td>3</td>\n",
       "      <td>48</td>\n",
       "      <td>183</td>\n",
       "      <td>62421</td>\n",
       "      <td>2</td>\n",
       "      <td>7</td>\n",
       "      <td>31</td>\n",
       "      <td>3</td>\n",
       "      <td>3</td>\n",
       "      <td>0</td>\n",
       "      <td>0</td>\n",
       "      <td>2</td>\n",
       "      <td>-</td>\n",
       "      <td>218</td>\n",
       "      <td>1627</td>\n",
       "      <td>6777</td>\n",
       "      <td>33</td>\n",
       "      <td>33</td>\n",
       "      <td>0</td>\n",
       "      <td>0</td>\n",
       "    </tr>\n",
       "    <tr>\n",
       "      <td>4</td>\n",
       "      <td>48</td>\n",
       "      <td>183</td>\n",
       "      <td>62421</td>\n",
       "      <td>2</td>\n",
       "      <td>7</td>\n",
       "      <td>31</td>\n",
       "      <td>3</td>\n",
       "      <td>3</td>\n",
       "      <td>0</td>\n",
       "      <td>0</td>\n",
       "      <td>2</td>\n",
       "      <td>Z</td>\n",
       "      <td>0</td>\n",
       "      <td>0</td>\n",
       "      <td>0</td>\n",
       "      <td>1</td>\n",
       "      <td>1</td>\n",
       "      <td>0</td>\n",
       "      <td>0</td>\n",
       "    </tr>\n",
       "  </tbody>\n",
       "</table>\n",
       "</div>"
      ],
      "text/plain": [
       "   COUNTY_fipstate  COUNTY_fipscty  naics  COUNTY_emp  COUNTY_qp1  COUNTY_ap  \\\n",
       "0               48             183  62421           2           7         31   \n",
       "1               48             183  62421           2           7         31   \n",
       "2               48             183  62421           2           7         31   \n",
       "3               48             183  62421           2           7         31   \n",
       "4               48             183  62421           2           7         31   \n",
       "\n",
       "   COUNTY_est  COUNTY_sz_small  COUNTY_sz_med  COUNTY_sz_lrg  state_fipstate  \\\n",
       "0           3                3              0              0               1   \n",
       "1           3                3              0              0               1   \n",
       "2           3                3              0              0               1   \n",
       "3           3                3              0              0               2   \n",
       "4           3                3              0              0               2   \n",
       "\n",
       "  state_lfo  state_emp  state_qp1  state_ap  state_est  state_sz_small  \\\n",
       "0         -        285       1922      8083         39              39   \n",
       "1         C          0          0         0          1               1   \n",
       "2         N        284       1921      8079         38              38   \n",
       "3         -        218       1627      6777         33              33   \n",
       "4         Z          0          0         0          1               1   \n",
       "\n",
       "   state_sz_med  state_sz_lrg  \n",
       "0             0             0  \n",
       "1             0             0  \n",
       "2             0             0  \n",
       "3             0             0  \n",
       "4             0             0  "
      ]
     },
     "execution_count": 56,
     "metadata": {},
     "output_type": "execute_result"
    }
   ],
   "source": [
    "C_S.head()"
   ]
  },
  {
   "cell_type": "code",
   "execution_count": 51,
   "metadata": {},
   "outputs": [],
   "source": [
    "csus= [C_S,US_file]"
   ]
  },
  {
   "cell_type": "code",
   "execution_count": null,
   "metadata": {},
   "outputs": [],
   "source": []
  },
  {
   "cell_type": "code",
   "execution_count": 57,
   "metadata": {},
   "outputs": [],
   "source": [
    "S_US = reduce(lambda left,right: pd.merge(left,right,on='naics'), csus) #reducting naics to 1 from 2"
   ]
  },
  {
   "cell_type": "code",
   "execution_count": 58,
   "metadata": {},
   "outputs": [
    {
     "data": {
      "text/html": [
       "<div>\n",
       "<style scoped>\n",
       "    .dataframe tbody tr th:only-of-type {\n",
       "        vertical-align: middle;\n",
       "    }\n",
       "\n",
       "    .dataframe tbody tr th {\n",
       "        vertical-align: top;\n",
       "    }\n",
       "\n",
       "    .dataframe thead th {\n",
       "        text-align: right;\n",
       "    }\n",
       "</style>\n",
       "<table border=\"1\" class=\"dataframe\">\n",
       "  <thead>\n",
       "    <tr style=\"text-align: right;\">\n",
       "      <th></th>\n",
       "      <th>COUNTY_fipstate</th>\n",
       "      <th>COUNTY_fipscty</th>\n",
       "      <th>naics</th>\n",
       "      <th>COUNTY_emp</th>\n",
       "      <th>COUNTY_qp1</th>\n",
       "      <th>COUNTY_ap</th>\n",
       "      <th>COUNTY_est</th>\n",
       "      <th>COUNTY_sz_small</th>\n",
       "      <th>COUNTY_sz_med</th>\n",
       "      <th>COUNTY_sz_lrg</th>\n",
       "      <th>...</th>\n",
       "      <th>state_sz_med</th>\n",
       "      <th>state_sz_lrg</th>\n",
       "      <th>US_lfo</th>\n",
       "      <th>US_emp</th>\n",
       "      <th>US_qp1</th>\n",
       "      <th>US_ap</th>\n",
       "      <th>US_est</th>\n",
       "      <th>US_sz_small</th>\n",
       "      <th>US_sz_med</th>\n",
       "      <th>US_sz_lrg</th>\n",
       "    </tr>\n",
       "  </thead>\n",
       "  <tbody>\n",
       "    <tr>\n",
       "      <td>0</td>\n",
       "      <td>48</td>\n",
       "      <td>183</td>\n",
       "      <td>62421</td>\n",
       "      <td>2</td>\n",
       "      <td>7</td>\n",
       "      <td>31</td>\n",
       "      <td>3</td>\n",
       "      <td>3</td>\n",
       "      <td>0</td>\n",
       "      <td>0</td>\n",
       "      <td>...</td>\n",
       "      <td>0</td>\n",
       "      <td>0</td>\n",
       "      <td>-</td>\n",
       "      <td>40916</td>\n",
       "      <td>282217</td>\n",
       "      <td>1210965</td>\n",
       "      <td>4660</td>\n",
       "      <td>4625</td>\n",
       "      <td>35</td>\n",
       "      <td>0</td>\n",
       "    </tr>\n",
       "    <tr>\n",
       "      <td>1</td>\n",
       "      <td>48</td>\n",
       "      <td>183</td>\n",
       "      <td>62421</td>\n",
       "      <td>2</td>\n",
       "      <td>7</td>\n",
       "      <td>31</td>\n",
       "      <td>3</td>\n",
       "      <td>3</td>\n",
       "      <td>0</td>\n",
       "      <td>0</td>\n",
       "      <td>...</td>\n",
       "      <td>0</td>\n",
       "      <td>0</td>\n",
       "      <td>C</td>\n",
       "      <td>374</td>\n",
       "      <td>1994</td>\n",
       "      <td>8988</td>\n",
       "      <td>52</td>\n",
       "      <td>52</td>\n",
       "      <td>0</td>\n",
       "      <td>0</td>\n",
       "    </tr>\n",
       "    <tr>\n",
       "      <td>2</td>\n",
       "      <td>48</td>\n",
       "      <td>183</td>\n",
       "      <td>62421</td>\n",
       "      <td>2</td>\n",
       "      <td>7</td>\n",
       "      <td>31</td>\n",
       "      <td>3</td>\n",
       "      <td>3</td>\n",
       "      <td>0</td>\n",
       "      <td>0</td>\n",
       "      <td>...</td>\n",
       "      <td>0</td>\n",
       "      <td>0</td>\n",
       "      <td>Z</td>\n",
       "      <td>849</td>\n",
       "      <td>4582</td>\n",
       "      <td>20604</td>\n",
       "      <td>53</td>\n",
       "      <td>51</td>\n",
       "      <td>2</td>\n",
       "      <td>0</td>\n",
       "    </tr>\n",
       "    <tr>\n",
       "      <td>3</td>\n",
       "      <td>48</td>\n",
       "      <td>183</td>\n",
       "      <td>62421</td>\n",
       "      <td>2</td>\n",
       "      <td>7</td>\n",
       "      <td>31</td>\n",
       "      <td>3</td>\n",
       "      <td>3</td>\n",
       "      <td>0</td>\n",
       "      <td>0</td>\n",
       "      <td>...</td>\n",
       "      <td>0</td>\n",
       "      <td>0</td>\n",
       "      <td>S</td>\n",
       "      <td>405</td>\n",
       "      <td>1978</td>\n",
       "      <td>8094</td>\n",
       "      <td>78</td>\n",
       "      <td>78</td>\n",
       "      <td>0</td>\n",
       "      <td>0</td>\n",
       "    </tr>\n",
       "    <tr>\n",
       "      <td>4</td>\n",
       "      <td>48</td>\n",
       "      <td>183</td>\n",
       "      <td>62421</td>\n",
       "      <td>2</td>\n",
       "      <td>7</td>\n",
       "      <td>31</td>\n",
       "      <td>3</td>\n",
       "      <td>3</td>\n",
       "      <td>0</td>\n",
       "      <td>0</td>\n",
       "      <td>...</td>\n",
       "      <td>0</td>\n",
       "      <td>0</td>\n",
       "      <td>P</td>\n",
       "      <td>167</td>\n",
       "      <td>677</td>\n",
       "      <td>2920</td>\n",
       "      <td>10</td>\n",
       "      <td>10</td>\n",
       "      <td>0</td>\n",
       "      <td>0</td>\n",
       "    </tr>\n",
       "  </tbody>\n",
       "</table>\n",
       "<p>5 rows × 27 columns</p>\n",
       "</div>"
      ],
      "text/plain": [
       "   COUNTY_fipstate  COUNTY_fipscty  naics  COUNTY_emp  COUNTY_qp1  COUNTY_ap  \\\n",
       "0               48             183  62421           2           7         31   \n",
       "1               48             183  62421           2           7         31   \n",
       "2               48             183  62421           2           7         31   \n",
       "3               48             183  62421           2           7         31   \n",
       "4               48             183  62421           2           7         31   \n",
       "\n",
       "   COUNTY_est  COUNTY_sz_small  COUNTY_sz_med  COUNTY_sz_lrg  ...  \\\n",
       "0           3                3              0              0  ...   \n",
       "1           3                3              0              0  ...   \n",
       "2           3                3              0              0  ...   \n",
       "3           3                3              0              0  ...   \n",
       "4           3                3              0              0  ...   \n",
       "\n",
       "   state_sz_med state_sz_lrg  US_lfo  US_emp  US_qp1    US_ap  US_est  \\\n",
       "0             0            0       -   40916  282217  1210965    4660   \n",
       "1             0            0       C     374    1994     8988      52   \n",
       "2             0            0       Z     849    4582    20604      53   \n",
       "3             0            0       S     405    1978     8094      78   \n",
       "4             0            0       P     167     677     2920      10   \n",
       "\n",
       "   US_sz_small  US_sz_med US_sz_lrg  \n",
       "0         4625         35         0  \n",
       "1           52          0         0  \n",
       "2           51          2         0  \n",
       "3           78          0         0  \n",
       "4           10          0         0  \n",
       "\n",
       "[5 rows x 27 columns]"
      ]
     },
     "execution_count": 58,
     "metadata": {},
     "output_type": "execute_result"
    }
   ],
   "source": [
    "S_US.head()"
   ]
  },
  {
   "cell_type": "code",
   "execution_count": 60,
   "metadata": {},
   "outputs": [
    {
     "data": {
      "text/plain": [
       "(39088818, 27)"
      ]
     },
     "execution_count": 60,
     "metadata": {},
     "output_type": "execute_result"
    }
   ],
   "source": [
    "S_US.shape"
   ]
  },
  {
   "cell_type": "code",
   "execution_count": 79,
   "metadata": {},
   "outputs": [
    {
     "data": {
      "text/plain": [
       "6252.105085489206"
      ]
     },
     "execution_count": 79,
     "metadata": {},
     "output_type": "execute_result"
    }
   ],
   "source": [
    "np.sqrt(39088818)"
   ]
  },
  {
   "cell_type": "code",
   "execution_count": 81,
   "metadata": {},
   "outputs": [
    {
     "data": {
      "text/plain": [
       "0.01599461279563175"
      ]
     },
     "execution_count": 81,
     "metadata": {},
     "output_type": "execute_result"
    }
   ],
   "source": [
    "100*(1/6252.105085489206)"
   ]
  },
  {
   "cell_type": "code",
   "execution_count": 65,
   "metadata": {},
   "outputs": [],
   "source": [
    "\n",
    "Texas_data= S_US\n"
   ]
  },
  {
   "cell_type": "code",
   "execution_count": 104,
   "metadata": {},
   "outputs": [
    {
     "data": {
      "text/plain": [
       "0    -\n",
       "1    C\n",
       "2    Z\n",
       "3    S\n",
       "4    P\n",
       "Name: US_lfo, dtype: object"
      ]
     },
     "execution_count": 104,
     "metadata": {},
     "output_type": "execute_result"
    }
   ],
   "source": [
    "Texas_data['US_lfo'].head()"
   ]
  },
  {
   "cell_type": "code",
   "execution_count": 105,
   "metadata": {},
   "outputs": [
    {
     "data": {
      "text/plain": [
       "0    -\n",
       "1    -\n",
       "2    -\n",
       "3    -\n",
       "4    -\n",
       "Name: state_lfo, dtype: object"
      ]
     },
     "execution_count": 105,
     "metadata": {},
     "output_type": "execute_result"
    }
   ],
   "source": [
    "Texas_data['state_lfo'].head()"
   ]
  },
  {
   "cell_type": "markdown",
   "metadata": {},
   "source": [
    "COUNTY_Avg_AP_I annual Payroll of an industry = Annual Payroll for the industry / No. of establishments in\n",
    "the industry"
   ]
  },
  {
   "cell_type": "code",
   "execution_count": 70,
   "metadata": {},
   "outputs": [],
   "source": [
    "Texas_data['COUNTY_Avg_AP_I'] = Texas_data['COUNTY_ap'] / Texas_data['COUNTY_est']"
   ]
  },
  {
   "cell_type": "code",
   "execution_count": 74,
   "metadata": {},
   "outputs": [],
   "source": [
    "Texas_data['State_Avg_AP_I'] = Texas_data['state_ap'] / Texas_data['state_est']"
   ]
  },
  {
   "cell_type": "code",
   "execution_count": 75,
   "metadata": {},
   "outputs": [],
   "source": [
    "Texas_data['US_Avg_AP_I'] = Texas_data['US_ap'] / Texas_data['US_est']"
   ]
  },
  {
   "cell_type": "code",
   "execution_count": 82,
   "metadata": {},
   "outputs": [],
   "source": [
    "First_review_data = Texas_data.sample(6254).reset_index(drop = True)"
   ]
  },
  {
   "cell_type": "code",
   "execution_count": 102,
   "metadata": {},
   "outputs": [],
   "source": [
    "First_review_data.to_csv(\"texas_data.csv\")"
   ]
  },
  {
   "cell_type": "code",
   "execution_count": 91,
   "metadata": {},
   "outputs": [
    {
     "data": {
      "text/plain": [
       "COUNTY_fipstate      int64\n",
       "COUNTY_fipscty       int64\n",
       "naics               object\n",
       "COUNTY_emp           int64\n",
       "COUNTY_qp1           int64\n",
       "COUNTY_ap            int64\n",
       "COUNTY_est           int64\n",
       "COUNTY_sz_small      int64\n",
       "COUNTY_sz_med        int64\n",
       "COUNTY_sz_lrg        int64\n",
       "state_fipstate       int64\n",
       "state_lfo           object\n",
       "state_emp            int64\n",
       "state_qp1            int64\n",
       "state_ap             int64\n",
       "state_est            int64\n",
       "state_sz_small       int64\n",
       "state_sz_med         int64\n",
       "state_sz_lrg         int64\n",
       "US_lfo              object\n",
       "US_emp               int64\n",
       "US_qp1               int64\n",
       "US_ap                int64\n",
       "US_est               int64\n",
       "US_sz_small          int64\n",
       "US_sz_med            int64\n",
       "US_sz_lrg            int64\n",
       "COUNTY_Avg_AP_I    float64\n",
       "State_Avg_AP_I     float64\n",
       "US_Avg_AP_I        float64\n",
       "dtype: object"
      ]
     },
     "execution_count": 91,
     "metadata": {},
     "output_type": "execute_result"
    }
   ],
   "source": [
    "First_review_data.dtypes"
   ]
  },
  {
   "cell_type": "code",
   "execution_count": 112,
   "metadata": {},
   "outputs": [],
   "source": [
    "Ctrain_Y=First_review_data['COUNTY_Avg_AP_I']\n",
    "Strain_Y=First_review_data['State_Avg_AP_I']\n",
    "UStrain_Y=First_review_data['US_Avg_AP_I']"
   ]
  },
  {
   "cell_type": "code",
   "execution_count": null,
   "metadata": {},
   "outputs": [],
   "source": []
  },
  {
   "cell_type": "code",
   "execution_count": 113,
   "metadata": {},
   "outputs": [],
   "source": [
    "categorical = First_review_data.select_dtypes(include=['object']) "
   ]
  },
  {
   "cell_type": "code",
   "execution_count": 114,
   "metadata": {},
   "outputs": [
    {
     "data": {
      "text/plain": [
       "Index(['naics', 'state_lfo', 'US_lfo'], dtype='object')"
      ]
     },
     "execution_count": 114,
     "metadata": {},
     "output_type": "execute_result"
    }
   ],
   "source": [
    "categorical.columns"
   ]
  },
  {
   "cell_type": "code",
   "execution_count": null,
   "metadata": {},
   "outputs": [],
   "source": []
  },
  {
   "cell_type": "code",
   "execution_count": 115,
   "metadata": {},
   "outputs": [],
   "source": [
    "numerical = First_review_data.drop(columns=['naics', 'state_lfo', 'US_lfo','COUNTY_Avg_AP_I','State_Avg_AP_I','US_Avg_AP_I'])"
   ]
  },
  {
   "cell_type": "code",
   "execution_count": 116,
   "metadata": {},
   "outputs": [
    {
     "data": {
      "text/html": [
       "<div>\n",
       "<style scoped>\n",
       "    .dataframe tbody tr th:only-of-type {\n",
       "        vertical-align: middle;\n",
       "    }\n",
       "\n",
       "    .dataframe tbody tr th {\n",
       "        vertical-align: top;\n",
       "    }\n",
       "\n",
       "    .dataframe thead th {\n",
       "        text-align: right;\n",
       "    }\n",
       "</style>\n",
       "<table border=\"1\" class=\"dataframe\">\n",
       "  <thead>\n",
       "    <tr style=\"text-align: right;\">\n",
       "      <th></th>\n",
       "      <th>COUNTY_fipstate</th>\n",
       "      <th>COUNTY_fipscty</th>\n",
       "      <th>COUNTY_emp</th>\n",
       "      <th>COUNTY_qp1</th>\n",
       "      <th>COUNTY_ap</th>\n",
       "      <th>COUNTY_est</th>\n",
       "      <th>COUNTY_sz_small</th>\n",
       "      <th>COUNTY_sz_med</th>\n",
       "      <th>COUNTY_sz_lrg</th>\n",
       "      <th>state_fipstate</th>\n",
       "      <th>...</th>\n",
       "      <th>state_sz_small</th>\n",
       "      <th>state_sz_med</th>\n",
       "      <th>state_sz_lrg</th>\n",
       "      <th>US_emp</th>\n",
       "      <th>US_qp1</th>\n",
       "      <th>US_ap</th>\n",
       "      <th>US_est</th>\n",
       "      <th>US_sz_small</th>\n",
       "      <th>US_sz_med</th>\n",
       "      <th>US_sz_lrg</th>\n",
       "    </tr>\n",
       "  </thead>\n",
       "  <tbody>\n",
       "    <tr>\n",
       "      <td>0</td>\n",
       "      <td>48</td>\n",
       "      <td>363</td>\n",
       "      <td>36</td>\n",
       "      <td>165</td>\n",
       "      <td>723</td>\n",
       "      <td>5</td>\n",
       "      <td>5</td>\n",
       "      <td>0</td>\n",
       "      <td>0</td>\n",
       "      <td>18</td>\n",
       "      <td>...</td>\n",
       "      <td>38</td>\n",
       "      <td>2</td>\n",
       "      <td>0</td>\n",
       "      <td>61929</td>\n",
       "      <td>390343</td>\n",
       "      <td>1672883</td>\n",
       "      <td>6603</td>\n",
       "      <td>6577</td>\n",
       "      <td>26</td>\n",
       "      <td>0</td>\n",
       "    </tr>\n",
       "    <tr>\n",
       "      <td>1</td>\n",
       "      <td>48</td>\n",
       "      <td>101</td>\n",
       "      <td>0</td>\n",
       "      <td>0</td>\n",
       "      <td>0</td>\n",
       "      <td>1</td>\n",
       "      <td>1</td>\n",
       "      <td>0</td>\n",
       "      <td>0</td>\n",
       "      <td>54</td>\n",
       "      <td>...</td>\n",
       "      <td>45</td>\n",
       "      <td>0</td>\n",
       "      <td>0</td>\n",
       "      <td>2690541</td>\n",
       "      <td>14992208</td>\n",
       "      <td>60642749</td>\n",
       "      <td>65399</td>\n",
       "      <td>55819</td>\n",
       "      <td>9579</td>\n",
       "      <td>1</td>\n",
       "    </tr>\n",
       "    <tr>\n",
       "      <td>2</td>\n",
       "      <td>48</td>\n",
       "      <td>499</td>\n",
       "      <td>0</td>\n",
       "      <td>0</td>\n",
       "      <td>0</td>\n",
       "      <td>1</td>\n",
       "      <td>1</td>\n",
       "      <td>0</td>\n",
       "      <td>0</td>\n",
       "      <td>26</td>\n",
       "      <td>...</td>\n",
       "      <td>94</td>\n",
       "      <td>0</td>\n",
       "      <td>0</td>\n",
       "      <td>8214</td>\n",
       "      <td>34637</td>\n",
       "      <td>154744</td>\n",
       "      <td>1197</td>\n",
       "      <td>1196</td>\n",
       "      <td>1</td>\n",
       "      <td>0</td>\n",
       "    </tr>\n",
       "    <tr>\n",
       "      <td>3</td>\n",
       "      <td>48</td>\n",
       "      <td>51</td>\n",
       "      <td>25</td>\n",
       "      <td>129</td>\n",
       "      <td>520</td>\n",
       "      <td>7</td>\n",
       "      <td>7</td>\n",
       "      <td>0</td>\n",
       "      <td>0</td>\n",
       "      <td>35</td>\n",
       "      <td>...</td>\n",
       "      <td>13</td>\n",
       "      <td>0</td>\n",
       "      <td>0</td>\n",
       "      <td>407445</td>\n",
       "      <td>2679442</td>\n",
       "      <td>11334008</td>\n",
       "      <td>52369</td>\n",
       "      <td>51947</td>\n",
       "      <td>420</td>\n",
       "      <td>2</td>\n",
       "    </tr>\n",
       "    <tr>\n",
       "      <td>4</td>\n",
       "      <td>48</td>\n",
       "      <td>189</td>\n",
       "      <td>0</td>\n",
       "      <td>0</td>\n",
       "      <td>0</td>\n",
       "      <td>1</td>\n",
       "      <td>1</td>\n",
       "      <td>0</td>\n",
       "      <td>0</td>\n",
       "      <td>36</td>\n",
       "      <td>...</td>\n",
       "      <td>44</td>\n",
       "      <td>4</td>\n",
       "      <td>0</td>\n",
       "      <td>75</td>\n",
       "      <td>509</td>\n",
       "      <td>3592</td>\n",
       "      <td>12</td>\n",
       "      <td>12</td>\n",
       "      <td>0</td>\n",
       "      <td>0</td>\n",
       "    </tr>\n",
       "  </tbody>\n",
       "</table>\n",
       "<p>5 rows × 24 columns</p>\n",
       "</div>"
      ],
      "text/plain": [
       "   COUNTY_fipstate  COUNTY_fipscty  COUNTY_emp  COUNTY_qp1  COUNTY_ap  \\\n",
       "0               48             363          36         165        723   \n",
       "1               48             101           0           0          0   \n",
       "2               48             499           0           0          0   \n",
       "3               48              51          25         129        520   \n",
       "4               48             189           0           0          0   \n",
       "\n",
       "   COUNTY_est  COUNTY_sz_small  COUNTY_sz_med  COUNTY_sz_lrg  state_fipstate  \\\n",
       "0           5                5              0              0              18   \n",
       "1           1                1              0              0              54   \n",
       "2           1                1              0              0              26   \n",
       "3           7                7              0              0              35   \n",
       "4           1                1              0              0              36   \n",
       "\n",
       "   ...  state_sz_small  state_sz_med  state_sz_lrg   US_emp    US_qp1  \\\n",
       "0  ...              38             2             0    61929    390343   \n",
       "1  ...              45             0             0  2690541  14992208   \n",
       "2  ...              94             0             0     8214     34637   \n",
       "3  ...              13             0             0   407445   2679442   \n",
       "4  ...              44             4             0       75       509   \n",
       "\n",
       "      US_ap  US_est  US_sz_small  US_sz_med  US_sz_lrg  \n",
       "0   1672883    6603         6577         26          0  \n",
       "1  60642749   65399        55819       9579          1  \n",
       "2    154744    1197         1196          1          0  \n",
       "3  11334008   52369        51947        420          2  \n",
       "4      3592      12           12          0          0  \n",
       "\n",
       "[5 rows x 24 columns]"
      ]
     },
     "execution_count": 116,
     "metadata": {},
     "output_type": "execute_result"
    }
   ],
   "source": [
    "numerical.head()"
   ]
  },
  {
   "cell_type": "code",
   "execution_count": 117,
   "metadata": {},
   "outputs": [],
   "source": [
    "from sklearn import preprocessing "
   ]
  },
  {
   "cell_type": "code",
   "execution_count": 118,
   "metadata": {},
   "outputs": [],
   "source": [
    "standardized_num = preprocessing.scale(numerical)"
   ]
  },
  {
   "cell_type": "code",
   "execution_count": 119,
   "metadata": {},
   "outputs": [],
   "source": [
    "standardized_num = pd.DataFrame(standardized_num)"
   ]
  },
  {
   "cell_type": "code",
   "execution_count": 120,
   "metadata": {},
   "outputs": [],
   "source": [
    "CAT_DATA = pd.get_dummies(categorical)"
   ]
  },
  {
   "cell_type": "code",
   "execution_count": null,
   "metadata": {},
   "outputs": [],
   "source": []
  },
  {
   "cell_type": "code",
   "execution_count": 121,
   "metadata": {},
   "outputs": [],
   "source": [
    "FINAL_Texas_DATA = pd.concat([CAT_DATA,standardized_num],axis=1)"
   ]
  },
  {
   "cell_type": "code",
   "execution_count": 123,
   "metadata": {},
   "outputs": [
    {
     "data": {
      "text/html": [
       "<div>\n",
       "<style scoped>\n",
       "    .dataframe tbody tr th:only-of-type {\n",
       "        vertical-align: middle;\n",
       "    }\n",
       "\n",
       "    .dataframe tbody tr th {\n",
       "        vertical-align: top;\n",
       "    }\n",
       "\n",
       "    .dataframe thead th {\n",
       "        text-align: right;\n",
       "    }\n",
       "</style>\n",
       "<table border=\"1\" class=\"dataframe\">\n",
       "  <thead>\n",
       "    <tr style=\"text-align: right;\">\n",
       "      <th></th>\n",
       "      <th>naics_</th>\n",
       "      <th>naics_11</th>\n",
       "      <th>naics_113</th>\n",
       "      <th>naics_1131</th>\n",
       "      <th>naics_11311</th>\n",
       "      <th>naics_1133</th>\n",
       "      <th>naics_11331</th>\n",
       "      <th>naics_114</th>\n",
       "      <th>naics_1142</th>\n",
       "      <th>naics_114210</th>\n",
       "      <th>...</th>\n",
       "      <th>14</th>\n",
       "      <th>15</th>\n",
       "      <th>16</th>\n",
       "      <th>17</th>\n",
       "      <th>18</th>\n",
       "      <th>19</th>\n",
       "      <th>20</th>\n",
       "      <th>21</th>\n",
       "      <th>22</th>\n",
       "      <th>23</th>\n",
       "    </tr>\n",
       "  </thead>\n",
       "  <tbody>\n",
       "    <tr>\n",
       "      <td>0</td>\n",
       "      <td>0</td>\n",
       "      <td>0</td>\n",
       "      <td>0</td>\n",
       "      <td>0</td>\n",
       "      <td>0</td>\n",
       "      <td>0</td>\n",
       "      <td>0</td>\n",
       "      <td>0</td>\n",
       "      <td>0</td>\n",
       "      <td>0</td>\n",
       "      <td>...</td>\n",
       "      <td>-0.167346</td>\n",
       "      <td>-0.132997</td>\n",
       "      <td>-0.100598</td>\n",
       "      <td>-0.103539</td>\n",
       "      <td>-0.105682</td>\n",
       "      <td>-0.106747</td>\n",
       "      <td>-0.093562</td>\n",
       "      <td>-0.092868</td>\n",
       "      <td>-0.114575</td>\n",
       "      <td>-0.103401</td>\n",
       "    </tr>\n",
       "    <tr>\n",
       "      <td>1</td>\n",
       "      <td>0</td>\n",
       "      <td>0</td>\n",
       "      <td>0</td>\n",
       "      <td>0</td>\n",
       "      <td>0</td>\n",
       "      <td>0</td>\n",
       "      <td>0</td>\n",
       "      <td>0</td>\n",
       "      <td>0</td>\n",
       "      <td>0</td>\n",
       "      <td>...</td>\n",
       "      <td>-0.164055</td>\n",
       "      <td>-0.171819</td>\n",
       "      <td>-0.100598</td>\n",
       "      <td>0.722138</td>\n",
       "      <td>0.248613</td>\n",
       "      <td>0.252167</td>\n",
       "      <td>0.218740</td>\n",
       "      <td>0.175301</td>\n",
       "      <td>1.911096</td>\n",
       "      <td>-0.098618</td>\n",
       "    </tr>\n",
       "    <tr>\n",
       "      <td>2</td>\n",
       "      <td>0</td>\n",
       "      <td>0</td>\n",
       "      <td>0</td>\n",
       "      <td>0</td>\n",
       "      <td>0</td>\n",
       "      <td>0</td>\n",
       "      <td>0</td>\n",
       "      <td>0</td>\n",
       "      <td>0</td>\n",
       "      <td>0</td>\n",
       "      <td>...</td>\n",
       "      <td>-0.141017</td>\n",
       "      <td>-0.171819</td>\n",
       "      <td>-0.100598</td>\n",
       "      <td>-0.120412</td>\n",
       "      <td>-0.114313</td>\n",
       "      <td>-0.115987</td>\n",
       "      <td>-0.122277</td>\n",
       "      <td>-0.122173</td>\n",
       "      <td>-0.119877</td>\n",
       "      <td>-0.103401</td>\n",
       "    </tr>\n",
       "    <tr>\n",
       "      <td>3</td>\n",
       "      <td>0</td>\n",
       "      <td>0</td>\n",
       "      <td>0</td>\n",
       "      <td>0</td>\n",
       "      <td>0</td>\n",
       "      <td>0</td>\n",
       "      <td>0</td>\n",
       "      <td>0</td>\n",
       "      <td>0</td>\n",
       "      <td>0</td>\n",
       "      <td>...</td>\n",
       "      <td>-0.179100</td>\n",
       "      <td>-0.171819</td>\n",
       "      <td>-0.100598</td>\n",
       "      <td>0.004991</td>\n",
       "      <td>-0.050140</td>\n",
       "      <td>-0.047946</td>\n",
       "      <td>0.149529</td>\n",
       "      <td>0.154215</td>\n",
       "      <td>-0.031029</td>\n",
       "      <td>-0.093836</td>\n",
       "    </tr>\n",
       "    <tr>\n",
       "      <td>4</td>\n",
       "      <td>0</td>\n",
       "      <td>0</td>\n",
       "      <td>0</td>\n",
       "      <td>0</td>\n",
       "      <td>0</td>\n",
       "      <td>0</td>\n",
       "      <td>0</td>\n",
       "      <td>0</td>\n",
       "      <td>0</td>\n",
       "      <td>0</td>\n",
       "      <td>...</td>\n",
       "      <td>-0.164525</td>\n",
       "      <td>-0.094175</td>\n",
       "      <td>-0.100598</td>\n",
       "      <td>-0.122968</td>\n",
       "      <td>-0.115141</td>\n",
       "      <td>-0.116907</td>\n",
       "      <td>-0.128571</td>\n",
       "      <td>-0.128621</td>\n",
       "      <td>-0.120089</td>\n",
       "      <td>-0.103401</td>\n",
       "    </tr>\n",
       "  </tbody>\n",
       "</table>\n",
       "<p>5 rows × 1365 columns</p>\n",
       "</div>"
      ],
      "text/plain": [
       "   naics_  naics_11  naics_113  naics_1131  naics_11311  naics_1133  \\\n",
       "0       0         0          0           0            0           0   \n",
       "1       0         0          0           0            0           0   \n",
       "2       0         0          0           0            0           0   \n",
       "3       0         0          0           0            0           0   \n",
       "4       0         0          0           0            0           0   \n",
       "\n",
       "   naics_11331  naics_114  naics_1142  naics_114210  ...        14        15  \\\n",
       "0            0          0           0             0  ... -0.167346 -0.132997   \n",
       "1            0          0           0             0  ... -0.164055 -0.171819   \n",
       "2            0          0           0             0  ... -0.141017 -0.171819   \n",
       "3            0          0           0             0  ... -0.179100 -0.171819   \n",
       "4            0          0           0             0  ... -0.164525 -0.094175   \n",
       "\n",
       "         16        17        18        19        20        21        22  \\\n",
       "0 -0.100598 -0.103539 -0.105682 -0.106747 -0.093562 -0.092868 -0.114575   \n",
       "1 -0.100598  0.722138  0.248613  0.252167  0.218740  0.175301  1.911096   \n",
       "2 -0.100598 -0.120412 -0.114313 -0.115987 -0.122277 -0.122173 -0.119877   \n",
       "3 -0.100598  0.004991 -0.050140 -0.047946  0.149529  0.154215 -0.031029   \n",
       "4 -0.100598 -0.122968 -0.115141 -0.116907 -0.128571 -0.128621 -0.120089   \n",
       "\n",
       "         23  \n",
       "0 -0.103401  \n",
       "1 -0.098618  \n",
       "2 -0.103401  \n",
       "3 -0.093836  \n",
       "4 -0.103401  \n",
       "\n",
       "[5 rows x 1365 columns]"
      ]
     },
     "execution_count": 123,
     "metadata": {},
     "output_type": "execute_result"
    }
   ],
   "source": [
    "FINAL_Texas_DATA.head()"
   ]
  },
  {
   "cell_type": "code",
   "execution_count": null,
   "metadata": {},
   "outputs": [],
   "source": []
  },
  {
   "cell_type": "code",
   "execution_count": null,
   "metadata": {},
   "outputs": [],
   "source": []
  },
  {
   "cell_type": "code",
   "execution_count": null,
   "metadata": {},
   "outputs": [],
   "source": []
  },
  {
   "cell_type": "code",
   "execution_count": 152,
   "metadata": {},
   "outputs": [],
   "source": [
    "FINAL_Texas_DATA.to_csv(\"Preprocessed_texas_data.csv\")"
   ]
  },
  {
   "cell_type": "code",
   "execution_count": 154,
   "metadata": {},
   "outputs": [
    {
     "data": {
      "text/plain": [
       "Index(['COUNTY_fipstate', 'COUNTY_fipscty', 'naics', 'COUNTY_emp',\n",
       "       'COUNTY_qp1', 'COUNTY_ap', 'COUNTY_est', 'COUNTY_sz_small',\n",
       "       'COUNTY_sz_med', 'COUNTY_sz_lrg', 'state_fipstate', 'state_lfo',\n",
       "       'state_emp', 'state_qp1', 'state_ap', 'state_est', 'state_sz_small',\n",
       "       'state_sz_med', 'state_sz_lrg', 'US_lfo', 'US_emp', 'US_qp1', 'US_ap',\n",
       "       'US_est', 'US_sz_small', 'US_sz_med', 'US_sz_lrg', 'COUNTY_Avg_AP_I',\n",
       "       'State_Avg_AP_I', 'US_Avg_AP_I'],\n",
       "      dtype='object')"
      ]
     },
     "execution_count": 154,
     "metadata": {},
     "output_type": "execute_result"
    }
   ],
   "source": [
    "First_review_data.columns"
   ]
  },
  {
   "cell_type": "code",
   "execution_count": 158,
   "metadata": {},
   "outputs": [
    {
     "data": {
      "text/plain": [
       "array([[<matplotlib.axes._subplots.AxesSubplot object at 0x1224a0990>]],\n",
       "      dtype=object)"
      ]
     },
     "execution_count": 158,
     "metadata": {},
     "output_type": "execute_result"
    },
    {
     "data": {
      "image/png": "[encoded data removed]",
      "text/plain": [
       "<Figure size 432x288 with 1 Axes>"
      ]
     },
     "metadata": {
      "needs_background": "light"
     },
     "output_type": "display_data"
    }
   ],
   "source": [
    "First_review_data.hist(column='COUNTY_Avg_AP_I')"
   ]
  },
  {
   "cell_type": "code",
   "execution_count": 160,
   "metadata": {},
   "outputs": [
    {
     "data": {
      "text/plain": [
       "count      6254.000000\n",
       "mean        314.078810\n",
       "std        1994.326329\n",
       "min           0.000000\n",
       "25%           0.000000\n",
       "50%           0.000000\n",
       "75%         219.893750\n",
       "max      108414.666667\n",
       "Name: COUNTY_Avg_AP_I, dtype: float64"
      ]
     },
     "execution_count": 160,
     "metadata": {},
     "output_type": "execute_result"
    }
   ],
   "source": [
    "First_review_data['COUNTY_Avg_AP_I'].describe()"
   ]
  },
  {
   "cell_type": "code",
   "execution_count": 157,
   "metadata": {},
   "outputs": [
    {
     "data": {
      "text/plain": [
       "<matplotlib.axes._subplots.AxesSubplot at 0x123852ed0>"
      ]
     },
     "execution_count": 157,
     "metadata": {},
     "output_type": "execute_result"
    },
    {
     "data": {
      "image/png": "[encoded data removed]",
      "text/plain": [
       "<Figure size 432x288 with 1 Axes>"
      ]
     },
     "metadata": {
      "needs_background": "light"
     },
     "output_type": "display_data"
    }
   ],
   "source": [
    "First_review_data.boxplot(column='COUNTY_Avg_AP_I')"
   ]
  },
  {
   "cell_type": "code",
   "execution_count": null,
   "metadata": {},
   "outputs": [],
   "source": []
  },
  {
   "cell_type": "code",
   "execution_count": null,
   "metadata": {},
   "outputs": [],
   "source": []
  },
  {
   "cell_type": "code",
   "execution_count": 85,
   "metadata": {},
   "outputs": [],
   "source": [
    "##### Model for county"
   ]
  },
  {
   "cell_type": "code",
   "execution_count": null,
   "metadata": {},
   "outputs": [],
   "source": [
    "CTrain_X=\n",
    "Ctrain_Y=FINAL_Texas_DATA['']"
   ]
  },
  {
   "cell_type": "code",
   "execution_count": 125,
   "metadata": {},
   "outputs": [],
   "source": [
    "from sklearn.model_selection import train_test_split"
   ]
  },
  {
   "cell_type": "code",
   "execution_count": 126,
   "metadata": {},
   "outputs": [],
   "source": [
    "X_Ctrain, X_Cval, y_Ctrain, y_Cval = train_test_split(FINAL_Texas_DATA,Ctrain_Y,test_size = 0.4,random_state = 123)"
   ]
  },
  {
   "cell_type": "code",
   "execution_count": 133,
   "metadata": {},
   "outputs": [
    {
     "data": {
      "text/plain": [
       "dtype('float64')"
      ]
     },
     "execution_count": 133,
     "metadata": {},
     "output_type": "execute_result"
    }
   ],
   "source": [
    "y_Ctrain.dtypes"
   ]
  },
  {
   "cell_type": "code",
   "execution_count": null,
   "metadata": {},
   "outputs": [],
   "source": []
  },
  {
   "cell_type": "code",
   "execution_count": null,
   "metadata": {},
   "outputs": [],
   "source": []
  },
  {
   "cell_type": "code",
   "execution_count": 134,
   "metadata": {},
   "outputs": [],
   "source": [
    "from sklearn.linear_model import LinearRegression\n",
    "from sklearn import metrics, model_selection\n",
    "from sklearn import datasets"
   ]
  },
  {
   "cell_type": "code",
   "execution_count": 135,
   "metadata": {},
   "outputs": [],
   "source": [
    "linreg = LinearRegression()\n"
   ]
  },
  {
   "cell_type": "code",
   "execution_count": 136,
   "metadata": {},
   "outputs": [
    {
     "data": {
      "text/plain": [
       "LinearRegression(copy_X=True, fit_intercept=True, n_jobs=None, normalize=False)"
      ]
     },
     "execution_count": 136,
     "metadata": {},
     "output_type": "execute_result"
    }
   ],
   "source": [
    "linreg.fit(X_Ctrain, y_Ctrain) #fitting the model "
   ]
  },
  {
   "cell_type": "code",
   "execution_count": 144,
   "metadata": {},
   "outputs": [
    {
     "name": "stdout",
     "output_type": "stream",
     "text": [
      "5.754261151273957e+25\n"
     ]
    }
   ],
   "source": [
    "y_pred_County = linreg.predict(X_Cval)\n",
    "print(metrics.mean_squared_error(y_Cval, y_pred_County))\n",
    "#from sklearn.metrics import confusion_matrix\n",
    "#confusion_matrix(y_train, y_pred_train)"
   ]
  },
  {
   "cell_type": "code",
   "execution_count": 146,
   "metadata": {},
   "outputs": [],
   "source": [
    "from sklearn.model_selection import GridSearchCV\n",
    "hyperparameters = {'fit_intercept':[True,False], 'normalize':[True,False], 'copy_X':[True, False]}\n",
    "lm = GridSearchCV(linreg, hyperparameters, cv=5, verbose=0) #fitting the Gridsearch model\n"
   ]
  },
  {
   "cell_type": "code",
   "execution_count": 151,
   "metadata": {},
   "outputs": [
    {
     "data": {
      "text/plain": [
       "LinearRegression(copy_X=True, fit_intercept=True, n_jobs=None, normalize=False)"
      ]
     },
     "execution_count": 151,
     "metadata": {},
     "output_type": "execute_result"
    }
   ],
   "source": [
    "linreg"
   ]
  },
  {
   "cell_type": "code",
   "execution_count": 147,
   "metadata": {},
   "outputs": [
    {
     "data": {
      "text/plain": [
       "GridSearchCV(cv=5, error_score='raise-deprecating',\n",
       "             estimator=LinearRegression(copy_X=True, fit_intercept=True,\n",
       "                                        n_jobs=None, normalize=False),\n",
       "             iid='warn', n_jobs=None,\n",
       "             param_grid={'copy_X': [True, False],\n",
       "                         'fit_intercept': [True, False],\n",
       "                         'normalize': [True, False]},\n",
       "             pre_dispatch='2*n_jobs', refit=True, return_train_score=False,\n",
       "             scoring=None, verbose=0)"
      ]
     },
     "execution_count": 147,
     "metadata": {},
     "output_type": "execute_result"
    }
   ],
   "source": [
    "lm"
   ]
  },
  {
   "cell_type": "code",
   "execution_count": 148,
   "metadata": {},
   "outputs": [
    {
     "name": "stderr",
     "output_type": "stream",
     "text": [
      "//anaconda3/lib/python3.7/site-packages/sklearn/model_selection/_search.py:814: DeprecationWarning: The default of the `iid` parameter will change from True to False in version 0.22 and will be removed in 0.24. This will change numeric results when test-set sizes are unequal.\n",
      "  DeprecationWarning)\n"
     ]
    }
   ],
   "source": [
    "best_model = lm.fit(X_Ctrain, y_Ctrain)"
   ]
  },
  {
   "cell_type": "code",
   "execution_count": null,
   "metadata": {},
   "outputs": [],
   "source": [
    "best_model = linreg.fit(X_Ctrain, y_Ctrain,)"
   ]
  },
  {
   "cell_type": "code",
   "execution_count": null,
   "metadata": {},
   "outputs": [],
   "source": []
  },
  {
   "cell_type": "code",
   "execution_count": 150,
   "metadata": {},
   "outputs": [
    {
     "name": "stdout",
     "output_type": "stream",
     "text": [
      "5.754261151273957e+25\n"
     ]
    }
   ],
   "source": [
    "y_pred_County = best_model.predict(X_Cval)\n",
    "print(metrics.mean_squared_error(y_Cval, y_pred_County))"
   ]
  },
  {
   "cell_type": "code",
   "execution_count": null,
   "metadata": {},
   "outputs": [],
   "source": []
  },
  {
   "cell_type": "code",
   "execution_count": null,
   "metadata": {},
   "outputs": [],
   "source": []
  }
 ],
 "metadata": {
  "kernelspec": {
   "display_name": "Python 3",
   "language": "python",
   "name": "python3"
  },
  "language_info": {
   "codemirror_mode": {
    "name": "ipython",
    "version": 3
   },
   "file_extension": ".py",
   "mimetype": "text/x-python",
   "name": "python",
   "nbconvert_exporter": "python",
   "pygments_lexer": "ipython3",
   "version": "3.7.3"
  }
 },
 "nbformat": 4,
 "nbformat_minor": 2
}
